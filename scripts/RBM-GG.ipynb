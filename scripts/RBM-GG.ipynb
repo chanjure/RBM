{
 "cells": [
  {
   "cell_type": "markdown",
   "id": "5894f891",
   "metadata": {},
   "source": [
    "# RBM-GG \n",
    "\n",
    "Gaussian - Gaussian  \n",
    "\n",
    "1. Preprocessing data\n",
    "- Normalize the data to mean = 0, sig = 1\n",
    "- Use fixed sigma = 1\n",
    "\n",
    "2. Dynamic sigma\n",
    "- Normalize the data as usual\n",
    "- Update sigma from the CDk algorithm"
   ]
  },
  {
   "cell_type": "code",
   "execution_count": 1,
   "id": "d2fb8109",
   "metadata": {},
   "outputs": [],
   "source": [
    "import numpy as np\n",
    "import matplotlib.pyplot as plt\n",
    "import sys, os"
   ]
  },
  {
   "cell_type": "code",
   "execution_count": 2,
   "id": "ef8348e8",
   "metadata": {},
   "outputs": [],
   "source": [
    "data_dir = '../../../paperstudy/RBM/datas/'"
   ]
  },
  {
   "cell_type": "code",
   "execution_count": 3,
   "id": "82466dc2",
   "metadata": {},
   "outputs": [],
   "source": [
    "sys.path.append('../')\n",
    "import RBM as rbm"
   ]
  },
  {
   "cell_type": "markdown",
   "id": "73ea91d4",
   "metadata": {},
   "source": [
    "## Load data"
   ]
  },
  {
   "cell_type": "code",
   "execution_count": 4,
   "id": "634f0c48",
   "metadata": {},
   "outputs": [],
   "source": [
    "model = rbm.test.GGRBM\n",
    "mnist_train_data = data_dir + \"mnist_train.csv\"\n",
    "mnist_test_data = data_dir + \"mnist_test.csv\"\n",
    "\n",
    "training_data_file = open(mnist_train_data, 'r')\n",
    "training_data_list = training_data_file.readlines()\n",
    "training_data_file.close()"
   ]
  },
  {
   "cell_type": "code",
   "execution_count": 5,
   "id": "171ba978",
   "metadata": {},
   "outputs": [
    {
     "name": "stdout",
     "output_type": "stream",
     "text": [
      "number of training data 60000\n"
     ]
    }
   ],
   "source": [
    "# number of data\n",
    "print('number of training data', len(training_data_list))"
   ]
  },
  {
   "cell_type": "markdown",
   "id": "c3c60db2",
   "metadata": {},
   "source": [
    "## Preprocessing"
   ]
  },
  {
   "cell_type": "code",
   "execution_count": 6,
   "id": "e8438988",
   "metadata": {},
   "outputs": [],
   "source": [
    "n_data_train = 5000\n",
    "\n",
    "n_x = 784 # input vector size\n",
    "\n",
    "x_train = np.zeros((n_data_train, n_x))\n",
    "for i, data in enumerate(training_data_list[:n_data_train]):\n",
    "    data = data.split(',')\n",
    "    # Normalize mean=0, sig=1\n",
    "    data = np.asfarray(data[1:])/255.\n",
    "    x_mean = np.mean(data)\n",
    "    x_sig = np.std(data)\n",
    "    x_train[i] = (data - x_mean)/x_sig"
   ]
  },
  {
   "cell_type": "code",
   "execution_count": 7,
   "id": "56be4aa1",
   "metadata": {},
   "outputs": [
    {
     "data": {
      "text/plain": [
       "2.498681533789026e-18"
      ]
     },
     "execution_count": 7,
     "metadata": {},
     "output_type": "execute_result"
    }
   ],
   "source": [
    "np.mean(x_train)"
   ]
  },
  {
   "cell_type": "code",
   "execution_count": 8,
   "id": "942af34b",
   "metadata": {},
   "outputs": [
    {
     "data": {
      "text/plain": [
       "0.9999999999999998"
      ]
     },
     "execution_count": 8,
     "metadata": {},
     "output_type": "execute_result"
    }
   ],
   "source": [
    "np.std(x_train)"
   ]
  },
  {
   "cell_type": "code",
   "execution_count": 9,
   "id": "174432fe",
   "metadata": {},
   "outputs": [
    {
     "data": {
      "text/plain": [
       "-0.7091296661417569"
      ]
     },
     "execution_count": 9,
     "metadata": {},
     "output_type": "execute_result"
    }
   ],
   "source": [
    "np.min(x_train)"
   ]
  },
  {
   "cell_type": "code",
   "execution_count": 10,
   "id": "263c9579",
   "metadata": {},
   "outputs": [
    {
     "data": {
      "text/plain": [
       "6.674641888683865"
      ]
     },
     "execution_count": 10,
     "metadata": {},
     "output_type": "execute_result"
    }
   ],
   "source": [
    "np.max(x_train)"
   ]
  },
  {
   "cell_type": "code",
   "execution_count": 11,
   "id": "0a748fba",
   "metadata": {
    "scrolled": false
   },
   "outputs": [
    {
     "data": {
      "image/png": "[encoded data removed]",
      "text/plain": [
       "<Figure size 625x625 with 16 Axes>"
      ]
     },
     "metadata": {},
     "output_type": "display_data"
    }
   ],
   "source": [
    "f, ax = plt.subplots(4,4, dpi=125, figsize=(5,5))\n",
    "\n",
    "for i in range(4):\n",
    "    for j in range(4):\n",
    "        ind = i*4 + j\n",
    "        ax[i,j].imshow(x_train[ind].reshape(28,28), cmap='Greys')\n",
    "        ax[i,j].set_xticks([])\n",
    "        ax[i,j].set_yticks([])\n",
    "        \n",
    "f.tight_layout()"
   ]
  },
  {
   "cell_type": "markdown",
   "id": "8b51904d",
   "metadata": {},
   "source": [
    "## Define RBM"
   ]
  },
  {
   "cell_type": "code",
   "execution_count": 12,
   "id": "54ec464d",
   "metadata": {},
   "outputs": [],
   "source": [
    "model = rbm.test.GGRBM(n_x, 10, 1., 1.)"
   ]
  },
  {
   "cell_type": "code",
   "execution_count": null,
   "id": "e7a1950e",
   "metadata": {
    "scrolled": true
   },
   "outputs": [
    {
     "name": "stdout",
     "output_type": "stream",
     "text": [
      "0 2.011457050735783\n",
      "1 1.9492881405132834\n"
     ]
    }
   ],
   "source": [
    "model.fit(x_train,0.0001,3000) # fixed sig"
   ]
  },
  {
   "cell_type": "code",
   "execution_count": null,
   "id": "7d268346",
   "metadata": {},
   "outputs": [],
   "source": [
    "plt.plot(np.arange(len(model.history['loss'])),model.history['loss'])"
   ]
  },
  {
   "cell_type": "code",
   "execution_count": null,
   "id": "5cdef5e0",
   "metadata": {
    "scrolled": false
   },
   "outputs": [],
   "source": [
    "pred, hid = model.reconstruct(x_train[0:16])\n",
    "\n",
    "f, ax = plt.subplots(4,4, dpi=125, figsize=(5,5))\n",
    "\n",
    "for i in range(4):\n",
    "    for j in range(4):\n",
    "        ind = i*4 + j\n",
    "#         ax[i,j].imshow(pred[ind].reshape(28,28), vmin=-1, vmax=1, cmap='Greys')\n",
    "        ax[i,j].imshow(pred[ind].reshape(28,28), cmap='Greys')\n",
    "        ax[i,j].set_xlabel(ind)\n",
    "        ax[i,j].set_xticks([])\n",
    "        ax[i,j].set_yticks([])\n",
    "        \n",
    "f.tight_layout()"
   ]
  },
  {
   "cell_type": "code",
   "execution_count": null,
   "id": "1cfadc4a",
   "metadata": {},
   "outputs": [],
   "source": [
    "hid[0]# pattern\n",
    "f, ax = plt.subplots(2,5, dpi=125, figsize=(5,5))\n",
    "\n",
    "for i in range(2):\n",
    "    for j in range(5):\n",
    "        ind = i*5 + j\n",
    "#         ax[i,j].imshow(model.w.T[ind].reshape(28,28), vmin=0, vmax=1, cmap='Greys')\n",
    "        ax[i,j].imshow(model.w.T[ind].reshape(28,28), cmap='Greys')\n",
    "\n",
    "        ax[i,j].set_xlabel(ind)\n",
    "        ax[i,j].set_xticks([])\n",
    "        ax[i,j].set_yticks([])\n",
    "        \n",
    "f.tight_layout()"
   ]
  },
  {
   "cell_type": "code",
   "execution_count": null,
   "id": "5106ba85",
   "metadata": {},
   "outputs": [],
   "source": [
    "plt.plot(np.arange(len(model.history['sig_v'])),model.history['sig_v'])"
   ]
  },
  {
   "cell_type": "code",
   "execution_count": null,
   "id": "21779803",
   "metadata": {},
   "outputs": [],
   "source": [
    "plt.plot(np.arange(len(model.history['sig_h'])),model.history['sig_h'])"
   ]
  },
  {
   "cell_type": "markdown",
   "id": "9abfa8bf",
   "metadata": {},
   "source": [
    "## Define RBM dynamic sigma"
   ]
  },
  {
   "cell_type": "code",
   "execution_count": null,
   "id": "60de68ee",
   "metadata": {},
   "outputs": [],
   "source": [
    "model = rbm.test.GGRBM(n_x, 10, 1., 1.)"
   ]
  },
  {
   "cell_type": "code",
   "execution_count": null,
   "id": "f205787c",
   "metadata": {
    "scrolled": true
   },
   "outputs": [],
   "source": [
    "model.fit(x_train,0.0001,100, 10) # fixed sig"
   ]
  },
  {
   "cell_type": "code",
   "execution_count": null,
   "id": "5d5b8a35",
   "metadata": {},
   "outputs": [],
   "source": [
    "plt.plot(np.arange(len(model.history['loss'])),model.history['loss'])"
   ]
  },
  {
   "cell_type": "code",
   "execution_count": null,
   "id": "720d030e",
   "metadata": {
    "scrolled": false
   },
   "outputs": [],
   "source": [
    "pred, hid = model.reconstruct(x_train[0:16])\n",
    "\n",
    "f, ax = plt.subplots(4,4, dpi=125, figsize=(5,5))\n",
    "\n",
    "for i in range(4):\n",
    "    for j in range(4):\n",
    "        ind = i*4 + j\n",
    "#         ax[i,j].imshow(pred[ind].reshape(28,28), vmin=-1, vmax=1, cmap='Greys')\n",
    "        ax[i,j].imshow(pred[ind].reshape(28,28), cmap='Greys')\n",
    "        ax[i,j].set_xlabel(ind)\n",
    "        ax[i,j].set_xticks([])\n",
    "        ax[i,j].set_yticks([])\n",
    "        \n",
    "f.tight_layout()"
   ]
  },
  {
   "cell_type": "code",
   "execution_count": null,
   "id": "56bc1d3d",
   "metadata": {},
   "outputs": [],
   "source": [
    "hid[0]# pattern\n",
    "f, ax = plt.subplots(2,5, dpi=125, figsize=(5,5))\n",
    "\n",
    "for i in range(2):\n",
    "    for j in range(5):\n",
    "        ind = i*5 + j\n",
    "#         ax[i,j].imshow(model.w.T[ind].reshape(28,28), vmin=0, vmax=1, cmap='Greys')\n",
    "        ax[i,j].imshow(model.w.T[ind].reshape(28,28), cmap='Greys')\n",
    "\n",
    "        ax[i,j].set_xlabel(ind)\n",
    "        ax[i,j].set_xticks([])\n",
    "        ax[i,j].set_yticks([])\n",
    "        \n",
    "f.tight_layout()"
   ]
  },
  {
   "cell_type": "code",
   "execution_count": null,
   "id": "763a8808",
   "metadata": {},
   "outputs": [],
   "source": [
    "plt.plot(np.arange(len(model.history['sig_v'])),model.history['sig_v'])"
   ]
  },
  {
   "cell_type": "code",
   "execution_count": null,
   "id": "43557cfe",
   "metadata": {},
   "outputs": [],
   "source": [
    "plt.plot(np.arange(len(model.history['sig_h'])),model.history['sig_h'])"
   ]
  },
  {
   "cell_type": "code",
   "execution_count": null,
   "id": "df99bffc",
   "metadata": {},
   "outputs": [],
   "source": []
  }
 ],
 "metadata": {
  "kernelspec": {
   "display_name": "Python 3 (ipykernel)",
   "language": "python",
   "name": "python3"
  },
  "language_info": {
   "codemirror_mode": {
    "name": "ipython",
    "version": 3
   },
   "file_extension": ".py",
   "mimetype": "text/x-python",
   "name": "python",
   "nbconvert_exporter": "python",
   "pygments_lexer": "ipython3",
   "version": "3.10.6"
  }
 },
 "nbformat": 4,
 "nbformat_minor": 5
}
