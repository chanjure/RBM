{
 "cells": [
  {
   "cell_type": "markdown",
   "id": "5894f891",
   "metadata": {},
   "source": [
    "# RBM-GG \n",
    "\n",
    "Gaussian - Gaussian"
   ]
  },
  {
   "cell_type": "code",
   "execution_count": 1,
   "id": "d2fb8109",
   "metadata": {},
   "outputs": [],
   "source": [
    "import numpy as np\n",
    "import matplotlib.pyplot as plt\n",
    "import sys, os"
   ]
  },
  {
   "cell_type": "code",
   "execution_count": 2,
   "id": "ef8348e8",
   "metadata": {},
   "outputs": [],
   "source": [
    "data_dir = '../../../paperstudy/RBM/datas/'"
   ]
  },
  {
   "cell_type": "code",
   "execution_count": 3,
   "id": "82466dc2",
   "metadata": {},
   "outputs": [],
   "source": [
    "sys.path.append('../')\n",
    "import RBM as rbm"
   ]
  },
  {
   "cell_type": "markdown",
   "id": "73ea91d4",
   "metadata": {},
   "source": [
    "## Load data"
   ]
  },
  {
   "cell_type": "code",
   "execution_count": 4,
   "id": "634f0c48",
   "metadata": {},
   "outputs": [],
   "source": [
    "mnist_train_data = data_dir + \"mnist_train.csv\"\n",
    "mnist_test_data = data_dir + \"mnist_test.csv\"\n",
    "\n",
    "training_data_file = open(mnist_train_data, 'r')\n",
    "training_data_list = training_data_file.readlines()\n",
    "training_data_file.close()\n",
    "\n",
    "test_data_file = open(mnist_test_data, 'r')\n",
    "test_data_list = test_data_file.readlines()\n",
    "test_data_file.close()"
   ]
  },
  {
   "cell_type": "code",
   "execution_count": 5,
   "id": "171ba978",
   "metadata": {},
   "outputs": [
    {
     "name": "stdout",
     "output_type": "stream",
     "text": [
      "number of training data 60000\n",
      "number of test data 10000\n"
     ]
    }
   ],
   "source": [
    "# number of data\n",
    "print('number of training data', len(training_data_list))\n",
    "print('number of test data', len(test_data_list))"
   ]
  },
  {
   "cell_type": "markdown",
   "id": "c3c60db2",
   "metadata": {},
   "source": [
    "## Preprocessing"
   ]
  },
  {
   "cell_type": "code",
   "execution_count": 6,
   "id": "e8438988",
   "metadata": {},
   "outputs": [],
   "source": [
    "n_data_train = 30000\n",
    "n_data_val = 500\n",
    "n_data_test = 500\n",
    "\n",
    "n_x = 784 # input vector size\n",
    "\n",
    "x_train = np.zeros((n_data_train, n_x))\n",
    "for i, data in enumerate(training_data_list[:n_data_train]):\n",
    "    data = data.split(',')\n",
    "    x_train[i] = np.asfarray(data[1:])/255.\n",
    "    \n",
    "x_val = np.zeros((n_data_val, n_x))\n",
    "for i, data in enumerate(training_data_list[n_data_train:n_data_train+n_data_val]):\n",
    "    data = data.split(',')\n",
    "    x_val[i] = np.asfarray(data[1:])/255.\n",
    "    \n",
    "x_test = np.zeros((n_data_test, n_x))\n",
    "for i, data in enumerate(test_data_list[:n_data_test]):\n",
    "    data = data.split(',')\n",
    "    x_test[i] = np.asfarray(data[1:])/255."
   ]
  },
  {
   "cell_type": "code",
   "execution_count": 7,
   "id": "0a748fba",
   "metadata": {
    "scrolled": false
   },
   "outputs": [
    {
     "data": {
      "image/png": "[encoded data removed]",
      "text/plain": [
       "<Figure size 625x625 with 16 Axes>"
      ]
     },
     "metadata": {},
     "output_type": "display_data"
    }
   ],
   "source": [
    "f, ax = plt.subplots(4,4, dpi=125, figsize=(5,5))\n",
    "\n",
    "for i in range(4):\n",
    "    for j in range(4):\n",
    "        ind = i*4 + j\n",
    "        ax[i,j].imshow(x_train[ind].reshape(28,28), vmin=0, vmax=1, cmap='Greys')\n",
    "        ax[i,j].set_xticks([])\n",
    "        ax[i,j].set_yticks([])\n",
    "        \n",
    "f.tight_layout()"
   ]
  },
  {
   "cell_type": "markdown",
   "id": "8b51904d",
   "metadata": {},
   "source": [
    "## Define RBM"
   ]
  },
  {
   "cell_type": "code",
   "execution_count": 8,
   "id": "128c9360",
   "metadata": {},
   "outputs": [],
   "source": [
    "args = {'sig_v':0.001,'sig_h':0.001}"
   ]
  },
  {
   "cell_type": "code",
   "execution_count": 9,
   "id": "e7a1950e",
   "metadata": {},
   "outputs": [],
   "source": [
    "model = rbm.RBM(n_x,10,'GG',args)"
   ]
  },
  {
   "cell_type": "code",
   "execution_count": 10,
   "id": "3afa83c5",
   "metadata": {
    "scrolled": true
   },
   "outputs": [
    {
     "data": {
      "text/plain": [
       "'G'"
      ]
     },
     "execution_count": 10,
     "metadata": {},
     "output_type": "execute_result"
    }
   ],
   "source": [
    "model.dv"
   ]
  },
  {
   "cell_type": "code",
   "execution_count": 11,
   "id": "d650d4dc",
   "metadata": {
    "scrolled": true
   },
   "outputs": [
    {
     "name": "stdout",
     "output_type": "stream",
     "text": [
      "0 0.11313104414301486\n",
      "1 0.1131311567176035\n",
      "2 0.11313104219232778\n",
      "3 0.11313124233485394\n",
      "4 0.11313101553805588\n",
      "5 0.11313081817084372\n",
      "6 0.11313100203931113\n",
      "7 0.11313079639458962\n",
      "8 0.11313091371704222\n",
      "9 0.11313092925318409\n",
      "10 0.11313122989089733\n",
      "11 0.11313119381934385\n",
      "12 0.11313080710036869\n",
      "13 0.11313078455057918\n",
      "14 0.11313089509101176\n",
      "15 0.11313088047960801\n",
      "16 0.1131311210617965\n",
      "17 0.1131307201227012\n",
      "18 0.11313105107490508\n",
      "19 0.11313114863685382\n",
      "20 0.11313104266881463\n",
      "21 0.11313065693372841\n",
      "22 0.11313103789046104\n",
      "23 0.1131309977589483\n",
      "24 0.11313083167659764\n",
      "25 0.11313093987347722\n",
      "26 0.11313113030796587\n",
      "27 0.11313079351447489\n",
      "28 0.1131308644056992\n",
      "29 0.11313073847450991\n",
      "30 0.1131310671254812\n",
      "31 0.11313077387194437\n",
      "32 0.11313116402842004\n",
      "33 0.11313093353550577\n",
      "34 0.11313095870203321\n",
      "35 0.11313113040536178\n",
      "36 0.11313112836414788\n",
      "37 0.11313112671788056\n",
      "38 0.11313101495384963\n",
      "39 0.11313082218368041\n",
      "40 0.11313108593283716\n",
      "41 0.11313100032387657\n",
      "42 0.11313087678800988\n",
      "43 0.11313105665628795\n",
      "44 0.11313125018686879\n",
      "45 0.11313097964184166\n",
      "46 0.11313116381389847\n",
      "47 0.11313091980888022\n",
      "48 0.11313097917351103\n",
      "49 0.11313095033381906\n",
      "50 0.11313109327555837\n",
      "51 0.1131312239494866\n",
      "52 0.11313114898632305\n",
      "53 0.11313116119187894\n",
      "54 0.11313096709241481\n",
      "55 0.11313099387819409\n",
      "56 0.11313081212374188\n",
      "57 0.11313087696530197\n",
      "58 0.11313100026046187\n",
      "59 0.11313084906990822\n",
      "60 0.11313081627955714\n",
      "61 0.11313087546786635\n",
      "62 0.11313063869864708\n",
      "63 0.11313104298853763\n",
      "64 0.1131310260106843\n",
      "65 0.1131308426970158\n"
     ]
    },
    {
     "ename": "KeyboardInterrupt",
     "evalue": "",
     "output_type": "error",
     "traceback": [
      "\u001b[0;31m---------------------------------------------------------------------------\u001b[0m",
      "\u001b[0;31mKeyboardInterrupt\u001b[0m                         Traceback (most recent call last)",
      "Cell \u001b[0;32mIn [11], line 1\u001b[0m\n\u001b[0;32m----> 1\u001b[0m model\u001b[38;5;241m.\u001b[39mfit(x_train,\u001b[38;5;241m0.00001\u001b[39m,\u001b[38;5;241m5000\u001b[39m)\n",
      "File \u001b[0;32m~/Dropbox/Lab/SU/workspace/RBM/scripts/../RBM/rbm.py:160\u001b[0m, in \u001b[0;36mRBM.fit\u001b[0;34m(self, x, lr, epoch)\u001b[0m\n\u001b[1;32m    157\u001b[0m vh_data \u001b[38;5;241m=\u001b[39m (x\u001b[38;5;241m.\u001b[39mT \u001b[38;5;241m@\u001b[39m \u001b[38;5;28mself\u001b[39m\u001b[38;5;241m.\u001b[39mph) \u001b[38;5;241m/\u001b[39m N\n\u001b[1;32m    159\u001b[0m \u001b[38;5;66;03m# Expectation value from the Model\u001b[39;00m\n\u001b[0;32m--> 160\u001b[0m \u001b[38;5;28mself\u001b[39m\u001b[38;5;241m.\u001b[39mpv, \u001b[38;5;28mself\u001b[39m\u001b[38;5;241m.\u001b[39mv, \u001b[38;5;28mself\u001b[39m\u001b[38;5;241m.\u001b[39mph, \u001b[38;5;28mself\u001b[39m\u001b[38;5;241m.\u001b[39mh \u001b[38;5;241m=\u001b[39m \u001b[38;5;28;43mself\u001b[39;49m\u001b[38;5;241;43m.\u001b[39;49m\u001b[43m_CDk\u001b[49m\u001b[43m(\u001b[49m\u001b[38;5;241;43m1\u001b[39;49m\u001b[43m,\u001b[49m\u001b[43mx\u001b[49m\u001b[43m)\u001b[49m\n\u001b[1;32m    162\u001b[0m v_model \u001b[38;5;241m=\u001b[39m np\u001b[38;5;241m.\u001b[39mmean(\u001b[38;5;28mself\u001b[39m\u001b[38;5;241m.\u001b[39mpv, axis\u001b[38;5;241m=\u001b[39m\u001b[38;5;241m0\u001b[39m)\n\u001b[1;32m    163\u001b[0m h_model \u001b[38;5;241m=\u001b[39m np\u001b[38;5;241m.\u001b[39mmean(\u001b[38;5;28mself\u001b[39m\u001b[38;5;241m.\u001b[39mph, axis\u001b[38;5;241m=\u001b[39m\u001b[38;5;241m0\u001b[39m)\n",
      "File \u001b[0;32m~/Dropbox/Lab/SU/workspace/RBM/scripts/../RBM/rbm.py:192\u001b[0m, in \u001b[0;36mRBM._CDk\u001b[0;34m(self, k, x)\u001b[0m\n\u001b[1;32m    177\u001b[0m     \u001b[38;5;124;03m\"\"\"Constrative Divergence k\u001b[39;00m\n\u001b[1;32m    178\u001b[0m \n\u001b[1;32m    179\u001b[0m \u001b[38;5;124;03m    Constrative Divergence using k steps of Gibbs sampling\u001b[39;00m\n\u001b[0;32m   (...)\u001b[0m\n\u001b[1;32m    189\u001b[0m \u001b[38;5;124;03m      Initial visible data.\u001b[39;00m\n\u001b[1;32m    190\u001b[0m \u001b[38;5;124;03m\t\t\"\"\"\u001b[39;00m\n\u001b[1;32m    191\u001b[0m     pv_n \u001b[38;5;241m=\u001b[39m np\u001b[38;5;241m.\u001b[39mzeros((k,) \u001b[38;5;241m+\u001b[39m x\u001b[38;5;241m.\u001b[39mshape) \u001b[38;5;66;03m# (Gibbs step, N data, n_v, 1)\u001b[39;00m\n\u001b[0;32m--> 192\u001b[0m     pv_n[\u001b[38;5;241m0\u001b[39m] \u001b[38;5;241m=\u001b[39m \u001b[43mpdf\u001b[49m\u001b[38;5;241;43m.\u001b[39;49m\u001b[43msigmoid\u001b[49m\u001b[43m(\u001b[49m\u001b[38;5;28;43mself\u001b[39;49m\u001b[38;5;241;43m.\u001b[39;49m\u001b[43ma\u001b[49m\u001b[43m \u001b[49m\u001b[38;5;241;43m+\u001b[39;49m\u001b[43m \u001b[49m\u001b[38;5;28;43mself\u001b[39;49m\u001b[38;5;241;43m.\u001b[39;49m\u001b[43mh\u001b[49m\u001b[43m \u001b[49m\u001b[38;5;241;43m@\u001b[39;49m\u001b[43m \u001b[49m\u001b[38;5;28;43mself\u001b[39;49m\u001b[38;5;241;43m.\u001b[39;49m\u001b[43mw\u001b[49m\u001b[38;5;241;43m.\u001b[39;49m\u001b[43mT\u001b[49m\u001b[43m)\u001b[49m\n\u001b[1;32m    193\u001b[0m     v_n \u001b[38;5;241m=\u001b[39m np\u001b[38;5;241m.\u001b[39mzeros((k,) \u001b[38;5;241m+\u001b[39m x\u001b[38;5;241m.\u001b[39mshape)\n\u001b[1;32m    194\u001b[0m     v_n[\u001b[38;5;241m0\u001b[39m] \u001b[38;5;241m=\u001b[39m \u001b[38;5;28mself\u001b[39m\u001b[38;5;241m.\u001b[39m_sample(\u001b[38;5;28mself\u001b[39m\u001b[38;5;241m.\u001b[39mdv, pv_n[\u001b[38;5;241m0\u001b[39m], \u001b[38;5;28mself\u001b[39m\u001b[38;5;241m.\u001b[39msig_v)\n",
      "File \u001b[0;32m~/Dropbox/Lab/SU/workspace/RBM/scripts/../RBM/pdf.py:77\u001b[0m, in \u001b[0;36msigmoid\u001b[0;34m(x)\u001b[0m\n\u001b[1;32m     75\u001b[0m result \u001b[38;5;241m=\u001b[39m np\u001b[38;5;241m.\u001b[39mempty_like(x, dtype\u001b[38;5;241m=\u001b[39mnp\u001b[38;5;241m.\u001b[39mfloat64)\n\u001b[1;32m     76\u001b[0m result[positive] \u001b[38;5;241m=\u001b[39m _positive_sigmoid(x[positive])\n\u001b[0;32m---> 77\u001b[0m result[negative] \u001b[38;5;241m=\u001b[39m \u001b[43m_negative_sigmoid\u001b[49m\u001b[43m(\u001b[49m\u001b[43mx\u001b[49m\u001b[43m[\u001b[49m\u001b[43mnegative\u001b[49m\u001b[43m]\u001b[49m\u001b[43m)\u001b[49m\n\u001b[1;32m     79\u001b[0m \u001b[38;5;28;01mreturn\u001b[39;00m result\n",
      "\u001b[0;31mKeyboardInterrupt\u001b[0m: "
     ]
    }
   ],
   "source": [
    "model.fit(x_train,0.00001,5000)"
   ]
  },
  {
   "cell_type": "code",
   "execution_count": null,
   "id": "958d7210",
   "metadata": {},
   "outputs": [],
   "source": [
    "f, ax = plt.subplots(4,4, dpi=125, figsize=(5,5))\n",
    "\n",
    "for i in range(4):\n",
    "    for j in range(4):\n",
    "        ind = i*4 + j\n",
    "        ax[i,j].imshow(x_train[ind].reshape(28,28), vmin=0, vmax=1, cmap='Greys')\n",
    "        ax[i,j].set_xticks([])\n",
    "        ax[i,j].set_yticks([])\n",
    "        \n",
    "f.tight_layout()"
   ]
  },
  {
   "cell_type": "code",
   "execution_count": null,
   "id": "5cdef5e0",
   "metadata": {
    "scrolled": false
   },
   "outputs": [],
   "source": [
    "pred, hid = model.reconstruct(x_train[0:16])\n",
    "\n",
    "f, ax = plt.subplots(4,4, dpi=125, figsize=(5,5))\n",
    "\n",
    "for i in range(4):\n",
    "    for j in range(4):\n",
    "        ind = i*4 + j\n",
    "#         ax[i,j].imshow(pred[ind].reshape(28,28), vmin=-1, vmax=1, cmap='Greys')\n",
    "        ax[i,j].imshow(pred[ind].reshape(28,28), cmap='Greys')\n",
    "        ax[i,j].set_xlabel(ind)\n",
    "        ax[i,j].set_xticks([])\n",
    "        ax[i,j].set_yticks([])\n",
    "        \n",
    "f.tight_layout()"
   ]
  },
  {
   "cell_type": "code",
   "execution_count": null,
   "id": "7d09fa3b",
   "metadata": {
    "scrolled": true
   },
   "outputs": [],
   "source": [
    "np.max(pred)"
   ]
  },
  {
   "cell_type": "code",
   "execution_count": null,
   "id": "4a892cf0",
   "metadata": {},
   "outputs": [],
   "source": [
    "np.min(pred)"
   ]
  },
  {
   "cell_type": "code",
   "execution_count": null,
   "id": "90c9bc20",
   "metadata": {},
   "outputs": [],
   "source": [
    "model.w.T[0].shape"
   ]
  },
  {
   "cell_type": "code",
   "execution_count": null,
   "id": "a3c425cc",
   "metadata": {},
   "outputs": [],
   "source": [
    "plt.imshow((hid[6]@model.w.T + model.a).reshape(28,28))"
   ]
  },
  {
   "cell_type": "code",
   "execution_count": null,
   "id": "3451175b",
   "metadata": {},
   "outputs": [],
   "source": [
    "x = np.arange(10)\n",
    "# plt.hist(hid[8])\n",
    "plt.plot(x,hid[6],'.')\n",
    "plt.plot(x,hid[8],'.')\n",
    "plt.plot(x,hid[14],'.')"
   ]
  },
  {
   "cell_type": "code",
   "execution_count": null,
   "id": "353473f5",
   "metadata": {},
   "outputs": [],
   "source": [
    "plt.imshow((hid[5]@model.w.T + model.a).reshape(28,28))"
   ]
  },
  {
   "cell_type": "code",
   "execution_count": null,
   "id": "d7798d29",
   "metadata": {},
   "outputs": [],
   "source": [
    "x = np.arange(10)\n",
    "plt.plot(x,hid[5],'.',label='5')\n",
    "plt.plot(x,hid[7],'.',label='7')\n",
    "plt.plot(x,hid[10],'.',label='10')\n",
    "plt.plot(x,hid[12],'.',label='12')\n",
    "plt.legend()"
   ]
  },
  {
   "cell_type": "code",
   "execution_count": null,
   "id": "67b9016a",
   "metadata": {},
   "outputs": [],
   "source": [
    "model.w.shape"
   ]
  },
  {
   "cell_type": "code",
   "execution_count": null,
   "id": "1cfadc4a",
   "metadata": {},
   "outputs": [],
   "source": [
    "# pattern\n",
    "f, ax = plt.subplots(2,5, dpi=125, figsize=(5,5))\n",
    "\n",
    "for i in range(2):\n",
    "    for j in range(5):\n",
    "        ind = i*5 + j\n",
    "#         ax[i,j].imshow(model.w.T[ind].reshape(28,28), vmin=0, vmax=1, cmap='Greys')\n",
    "        ax[i,j].imshow(model.w.T[ind].reshape(28,28), cmap='Greys')\n",
    "\n",
    "        ax[i,j].set_xlabel(ind)\n",
    "        ax[i,j].set_xticks([])\n",
    "        ax[i,j].set_yticks([])\n",
    "        \n",
    "f.tight_layout()"
   ]
  },
  {
   "cell_type": "code",
   "execution_count": null,
   "id": "5106ba85",
   "metadata": {},
   "outputs": [],
   "source": [
    "np.log(784)"
   ]
  },
  {
   "cell_type": "code",
   "execution_count": null,
   "id": "21779803",
   "metadata": {},
   "outputs": [],
   "source": [
    "hid[0]"
   ]
  },
  {
   "cell_type": "code",
   "execution_count": null,
   "id": "7046a2be",
   "metadata": {
    "scrolled": true
   },
   "outputs": [],
   "source": [
    "model.w"
   ]
  },
  {
   "cell_type": "markdown",
   "id": "8e80df04",
   "metadata": {},
   "source": [
    "# Feature retrieving"
   ]
  },
  {
   "cell_type": "code",
   "execution_count": null,
   "id": "861348da",
   "metadata": {},
   "outputs": [],
   "source": [
    "# Not trained\n",
    "\n",
    "model = rbm.RBM(n_x,10,'GG',args)\n",
    "model.fit(x_train,0.00001,5)\n",
    "\n",
    "pred, hid = model.reconstruct(x_train[0:16])\n",
    "\n",
    "f, ax = plt.subplots(4,4, dpi=125, figsize=(5,5))\n",
    "\n",
    "for i in range(4):\n",
    "    for j in range(4):\n",
    "        ind = i*4 + j\n",
    "        ax[i,j].imshow(pred[ind].reshape(28,28), vmin=0, vmax=1, cmap='Greys')\n",
    "        ax[i,j].set_xlabel(ind)\n",
    "        ax[i,j].set_xticks([])\n",
    "        ax[i,j].set_yticks([])\n",
    "        \n",
    "f.tight_layout()\n",
    "plt.show()\n",
    "\n",
    "# pattern\n",
    "f, ax = plt.subplots(2,5, dpi=125, figsize=(5,5))\n",
    "\n",
    "for i in range(2):\n",
    "    for j in range(5):\n",
    "        ind = i*5 + j\n",
    "#         ax[i,j].imshow(model.w.T[ind].reshape(28,28), vmin=0, vmax=1, cmap='Greys')\n",
    "        ax[i,j].imshow(model.w.T[ind].reshape(28,28), cmap='Greys')\n",
    "\n",
    "        ax[i,j].set_xlabel(ind)\n",
    "        ax[i,j].set_xticks([])\n",
    "        ax[i,j].set_yticks([])\n",
    "        \n",
    "f.tight_layout()\n",
    "plt.show()"
   ]
  },
  {
   "cell_type": "code",
   "execution_count": null,
   "id": "8c0b7794",
   "metadata": {
    "scrolled": true
   },
   "outputs": [],
   "source": [
    "# Mid trained\n",
    "\n",
    "model = rbm.RBM(n_x,10,'GG',args)\n",
    "model.fit(x_train,0.00001,500)\n",
    "\n",
    "pred, hid = model.reconstruct(x_train[0:16])\n",
    "\n",
    "f, ax = plt.subplots(4,4, dpi=125, figsize=(5,5))\n",
    "\n",
    "for i in range(4):\n",
    "    for j in range(4):\n",
    "        ind = i*4 + j\n",
    "        ax[i,j].imshow(pred[ind].reshape(28,28), cmap='Greys')\n",
    "        ax[i,j].set_xlabel(ind)\n",
    "        ax[i,j].set_xticks([])\n",
    "        ax[i,j].set_yticks([])\n",
    "        \n",
    "f.tight_layout()\n",
    "plt.show()\n",
    "\n",
    "# pattern\n",
    "f, ax = plt.subplots(2,5, dpi=125, figsize=(5,5))\n",
    "\n",
    "for i in range(2):\n",
    "    for j in range(5):\n",
    "        ind = i*5 + j\n",
    "#         ax[i,j].imshow(model.w.T[ind].reshape(28,28), vmin=0, vmax=1, cmap='Greys')\n",
    "        ax[i,j].imshow(model.w.T[ind].reshape(28,28), cmap='Greys')\n",
    "\n",
    "        ax[i,j].set_xlabel(ind)\n",
    "        ax[i,j].set_xticks([])\n",
    "        ax[i,j].set_yticks([])\n",
    "        \n",
    "f.tight_layout()\n",
    "plt.show()\n",
    "\n",
    "# Not all patterns are learned"
   ]
  },
  {
   "cell_type": "code",
   "execution_count": null,
   "id": "39e3a30d",
   "metadata": {
    "scrolled": true
   },
   "outputs": [],
   "source": [
    "# Well trained\n",
    "\n",
    "model = rbm.RBM(n_x,10,'GG',args)\n",
    "model.fit(x_train,0.00001,3000)\n",
    "\n",
    "pred, hid = model.reconstruct(x_train[0:16])\n",
    "\n",
    "f, ax = plt.subplots(4,4, dpi=125, figsize=(5,5))\n",
    "\n",
    "for i in range(4):\n",
    "    for j in range(4):\n",
    "        ind = i*4 + j\n",
    "        ax[i,j].imshow(pred[ind].reshape(28,28), vmin=0, vmax=1, cmap='Greys')\n",
    "        ax[i,j].set_xlabel(ind)\n",
    "        ax[i,j].set_xticks([])\n",
    "        ax[i,j].set_yticks([])\n",
    "        \n",
    "f.tight_layout()\n",
    "plt.show()\n",
    "\n",
    "# pattern\n",
    "f, ax = plt.subplots(2,5, dpi=125, figsize=(5,5))\n",
    "\n",
    "for i in range(2):\n",
    "    for j in range(5):\n",
    "        ind = i*5 + j\n",
    "#         ax[i,j].imshow(model.w.T[ind].reshape(28,28), vmin=0, vmax=1, cmap='Greys')\n",
    "        ax[i,j].imshow(model.w.T[ind].reshape(28,28), cmap='Greys')\n",
    "\n",
    "        ax[i,j].set_xlabel(ind)\n",
    "        ax[i,j].set_xticks([])\n",
    "        ax[i,j].set_yticks([])\n",
    "        \n",
    "f.tight_layout()\n",
    "plt.show()"
   ]
  },
  {
   "cell_type": "code",
   "execution_count": null,
   "id": "d1463229",
   "metadata": {},
   "outputs": [],
   "source": [
    "model.w"
   ]
  },
  {
   "cell_type": "code",
   "execution_count": null,
   "id": "d27b6cd2",
   "metadata": {},
   "outputs": [],
   "source": [
    "np.sum(np.abs(model.w) > 1e-4)"
   ]
  },
  {
   "cell_type": "code",
   "execution_count": null,
   "id": "73778118",
   "metadata": {},
   "outputs": [],
   "source": [
    "np.sum(np.abs(model.w) > 0)"
   ]
  },
  {
   "cell_type": "code",
   "execution_count": null,
   "id": "4e63410f",
   "metadata": {},
   "outputs": [],
   "source": []
  }
 ],
 "metadata": {
  "kernelspec": {
   "display_name": "Python 3 (ipykernel)",
   "language": "python",
   "name": "python3"
  },
  "language_info": {
   "codemirror_mode": {
    "name": "ipython",
    "version": 3
   },
   "file_extension": ".py",
   "mimetype": "text/x-python",
   "name": "python",
   "nbconvert_exporter": "python",
   "pygments_lexer": "ipython3",
   "version": "3.10.6"
  }
 },
 "nbformat": 4,
 "nbformat_minor": 5
}
